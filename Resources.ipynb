{
 "cells": [
  {
   "cell_type": "markdown",
   "id": "3880f831-052a-41c8-9063-d5bc17e47590",
   "metadata": {},
   "source": [
    "The chart illustrates that male mortality is significantly higher than females for approximately ages 16-35 for non-smoking idividuals according to the 2001 VBT.\n",
    "\n",
    "Like previous examples, these rates are for death in only a single year (ie $_1q_x$), but we could also represent mortality as the probability of death in the next $n$ years\n",
    "\n",
    "$$_{n}q_x = q_x + p_x*q_{(x+1)} + p_x*p_{(x+1)}*q_{(x+2)} + ... $$\n",
    "<center> Probability of death in the next n years = probability of dying in the next year + probability of living 1 year and dying the following year + probability of surviving this and the following year and dying in the third + ...</center> <br />\n",
    "\n",
    "**Reminder** the probability of survival and death are mutually exclusive events; therefore, it is often easier to calculate the probability of surviving n years ($_np_x$) and calculate the compliment:\n",
    "$$_np_x = p_x*p_{(x+1)}*p_{(x+2)}*...*p_{(x+n)}$$\n",
    "\n",
    "$$1 = _np_x + _nq_x  \\rightarrow  _nq_x = 1 - _np_x $$"
   ]
  }
 ],
 "metadata": {
  "kernelspec": {
   "display_name": "Julia 1.7.2",
   "language": "julia",
   "name": "julia-1.7"
  },
  "language_info": {
   "file_extension": ".jl",
   "mimetype": "application/julia",
   "name": "julia",
   "version": "1.7.2"
  }
 },
 "nbformat": 4,
 "nbformat_minor": 5
}
