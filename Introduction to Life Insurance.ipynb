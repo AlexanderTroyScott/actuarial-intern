{
 "cells": [
  {
   "cell_type": "markdown",
   "id": "69b09762-9d79-4eeb-8dae-7465aa25cbaa",
   "metadata": {},
   "source": [
    "## Introduction to Life Insurance"
   ]
  },
  {
   "cell_type": "markdown",
   "id": "010d30c8-4ee5-46a3-9da1-300c78cde708",
   "metadata": {},
   "source": [
    "### Summary of Actuarial Notation\n",
    "\n",
    "${p}_{x}$ - probability of living from age x to age x+1\n",
    "\n",
    "${q}_{x}$ - probability of death between ages $x$ and $x+1$\n",
    "\n",
    "$_{n}{q}_{x}$ - probability of death between ages $x$ and $x+n$\n",
    "\n",
    "$1 = {p}_{x}+{q}_{x}$ \n",
    "\n",
    "${A}_{x}$ - Present value of $1 of life insurance for a life age x\n",
    "\n",
    "$\\ddot{a}_{x}$ - Present value of a $1 life-contingent annuity due\n",
    "\n",
    "${a}_{x}$ - Present value of a $1 life-contingent immediate annuity"
   ]
  },
  {
   "cell_type": "markdown",
   "id": "ee496724-1eca-4035-a677-7f073fab36f8",
   "metadata": {},
   "source": [
    "#### Interest Theory\n",
    "\n",
    "With interest rates rising, banks are advertising Certificates of Deposites which earn 2% interest ($i$) for a year.\n",
    "\n",
    "The `future value` of $c$ dollars invested today would be $$FV = c*(1+i)^{n}$$\n",
    "\n",
    "Likewise, the `present value` can be calculated by discounting using\n",
    "$$\n",
    "v^{n} = \\frac{1}{(1+i)^{n}} = (1+i)^{-n}$$\n",
    "So the present value of a `1.00 dollar payment in 1 year` is worth\n",
    "$$PV = FV*v = 1*(1+i)^{-1} =  0.98039...$$\n"
   ]
  },
  {
   "cell_type": "markdown",
   "id": "82d40c08-9037-49fd-97ac-77ab85c5dd6d",
   "metadata": {
    "tags": []
   },
   "source": [
    "#### Introducing probability\n",
    "\n",
    "Suppose that you will only receive this dollar if you **survive the year** to claim it with probability $p$. \n",
    "\n",
    "If we assume that this `1 year survival`   $_{1}p$ is 99% then that present value decreases to\n",
    "$$PV = FV * v^{1} * _{1}p = 0.98039 * 0.99 = 0.97059...$$\n",
    "\n",
    "The payment of an amount conditioned upon the survival to time period $n$ for a life age $x$ is known as a `pure endowment` and is represented in actuarial notation as\n",
    "$$_{n}E_{x} = _{1}p_{x}v^{n}$$\n",
    "\n",
    "\n",
    "Because the compliment of surviving one year is the probability of `dying within 1 year` ($_{1}q$) then\n",
    "$$_{1}p + _{1}q = 1$$\n",
    "\n",
    "Then the present value of one dollar payable `at the end of 1 year | death` would be\n",
    "$$_{1}q*v^{1} = (1-_{1}p)v^{1} = (1-0.99)*0.98039...= 0.0098039...$$\n",
    "\n",
    "This is an example of a `1-year term insurance`\n",
    "$$A^{1} = 0.0098039$$"
   ]
  },
  {
   "cell_type": "code",
   "execution_count": null,
   "id": "5f408127-b144-42dd-988e-8477e137885b",
   "metadata": {},
   "outputs": [],
   "source": []
  }
 ],
 "metadata": {
  "kernelspec": {
   "display_name": "Julia 1.7.2",
   "language": "julia",
   "name": "julia-1.7"
  },
  "language_info": {
   "file_extension": ".jl",
   "mimetype": "application/julia",
   "name": "julia",
   "version": "1.7.2"
  }
 },
 "nbformat": 4,
 "nbformat_minor": 5
}
