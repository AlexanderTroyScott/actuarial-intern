{
 "cells": [
  {
   "cell_type": "code",
   "execution_count": 10,
   "id": "2c5b065b-c428-4693-bbb5-94046eb9d7aa",
   "metadata": {},
   "outputs": [],
   "source": [
    "using MortalityTables, Plots"
   ]
  },
  {
   "cell_type": "markdown",
   "id": "69b09762-9d79-4eeb-8dae-7465aa25cbaa",
   "metadata": {},
   "source": [
    "## Introduction to Universal Life Insurance"
   ]
  },
  {
   "cell_type": "markdown",
   "id": "ee496724-1eca-4035-a677-7f073fab36f8",
   "metadata": {
    "tags": []
   },
   "source": [
    "#### Overview\n",
    "A whole life insurance contract will stipulate the death benefit and cash value table for the life of an individual provided they pay a fixed premium. There are a couple of problems with this approach\n",
    "1. A policyholder has limited flexibility because if they miss premium payments their policy may automatically terminate\n",
    "2. The insurance company is locked into adhering to a fixed schedule of benefits often decades into the future\n",
    "3. While a whole life policy holder may often be able to take a loan out against their cash-value, they cannot directly access it without terminating the policy\n",
    "\n",
    "Universal life (UL) addresses both of these problems. It is a flexible-premium product which can prevent accidental lapsation; additionally, the insurance company has the ability to adjust the interest rates, mortality charges, etc. that would traditionally be locked-in for a whole life insurance policy. A UL policy will have both \"guaranteed\" rates, which are the highest charges and lowest interest that a policyholder could be charged, and \"current\" rates that portray the current economic environment. Insurance agents were also able to use this flexibility and transparency for marketing to policyholders; for example, explaining that they could provide protection for their family and also be able to withdraw funds from their account to pay for their child's college tuition.\n",
    "\n",
    "It may be easier to picture a UL policy more like a checking account that one would have with a bank.\n",
    "$$ FV_{t} = (FV_{t-1} + Deposits - Charges)*(1+i^{(12)})$$\n",
    "Where the current fund value is equal to the prior month's Fund Value (FV), less any administrative charges, plus interest.\n",
    "\n",
    "A universal life product functions a similar way, but with more charges\n",
    "$$ FV_{t} = (FV_{t-1} + Premiums(1-p) - NAR*COI - Expenses)*(1+i^{(12)})$$\n",
    "where Premiums are the optional premiums paid by the policyholder, $p$ is a percent-of-premium expense charge, NAR is the Net-Amount-at-Risk, COI is the Cost-of-Insurance rates, and Expenses are any monthly administrative expenses.\n",
    "\n",
    "**Note:** One important concept for universal life insurance is that the \"Net Amount at Risk\" (The Death Benefit less and applicable fund value) makes up the insurance charge; for example, say the death benefit is $$$100,000 but the policyholder has $$$25,000 in the account, then upon death the beneficiaries receive $$$100,000 but the company retains the $$$25,000 so the net amount at risk is only $$$75,000. This resembles how traditional life insurance worked; the policy holder could surrender and receive the cash-surrender value or if they died the beneficiary would receive the death benefit; both of these events were mutually exclusive.\n",
    "\n",
    "Because the various components of the policy are visible, UL is commonly viewed as a \"unbundled\" traditional life insurance policy. UL policyholders also receive an annual fund-value rollfoward which illustrates how much money is in their account and how much they are being charged for insurance.\n",
    "\n",
    "Life insurance companies must pay up-front costs when selling life insurance, such as commissions and underwriting, and want to discourage policyholders from lapsing in early durations. This is typically done with a \"surrender charge\" which will deduct a percent of the fund value of the account in the event of a lapse. This rate is often high for the first few policy years, but tends to decrease each year and disappear entirely by duration 10 or 20."
   ]
  },
  {
   "cell_type": "markdown",
   "id": "82d40c08-9037-49fd-97ac-77ab85c5dd6d",
   "metadata": {
    "tags": []
   },
   "source": [
    "#### History\n",
    "\n",
    "The concept of universal life has been around for over a hundred years, but because of regulation and product complexity it was first sold to consummers in the late 1970's and peaked in the early to mid 1980's when interest rates were high. Because the interest rates on new-money was higher than an insurance company's portfolio's yield, this means that universal life was attractive when compared to whole life insurance because account illustrations could be based on rates close to 15%.\n",
    "\n",
    "As Universal Life products became more common, policyholders began to associate it more like an account and less like an insurance product. When deaths started occuring at later attained-ages, where fund-values was close to the Net-Amount-at-Risk, beneficiaries felt cheated to receive only $100,000 when the fund value was already $90,000; they felt like they should have received the $$$100,000 death benefit in addition to the $$$90,000 in account value because it was their account.\n",
    "\n",
    "Insurance companies of course made a new product that gave policyholders the option to select whether the death benefit should be either the face amount or the face amount plus the account value; however, this increases the NAR which means there would be larger insurance charges to the account every month. The level death benefit type of Universal Life became known as **Type A** universal life, and the new product where the death benefit was the face amount plus the fund value was labled **Type B**. The NAR stays the same for Type B, but decreases for Type A as the fund value increases.\n",
    "\n",
    "Because UL products initially had such high interest rates and tax-advantaged death benefits they became a great savings vehicle; for example, buying a 100k UL policy and storing 95k in the account to generate tax-advantaged interest with almost no costs of insurance. This behavior would prevent the policy from being recognized as a life insurance contract according to the Internal Revenue Code; therefore, \"corridor\" factors are required which increase the NAR so that the product has an insurance component and qualifies as a life contract."
   ]
  }
 ],
 "metadata": {
  "kernelspec": {
   "display_name": "Julia 1.7.2",
   "language": "julia",
   "name": "julia-1.7"
  },
  "language_info": {
   "file_extension": ".jl",
   "mimetype": "application/julia",
   "name": "julia",
   "version": "1.7.2"
  }
 },
 "nbformat": 4,
 "nbformat_minor": 5
}
