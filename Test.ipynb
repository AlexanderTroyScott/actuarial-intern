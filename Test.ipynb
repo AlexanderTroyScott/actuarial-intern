{
 "cells": [
  {
   "cell_type": "markdown",
   "id": "e9864399-8bed-49fe-8709-5942a90e85c6",
   "metadata": {},
   "source": [
    "Consider the  **sum** function `sum(a)`, which computes\n",
    "$$\n",
    "\\mathrm{sum}(a) = \\sum_{i=1}^n a_i,\n",
    "$$\n",
    "where $n$ is the length of `a`."
   ]
  },
  {
   "cell_type": "markdown",
   "id": "010d30c8-4ee5-46a3-9da1-300c78cde708",
   "metadata": {},
   "source": [
    "$\\ddot{a}_{x}$ - life annuity\n",
    "\n",
    "${A}_{x}$ - life insurance"
   ]
  },
  {
   "cell_type": "markdown",
   "id": "69b09762-9d79-4eeb-8dae-7465aa25cbaa",
   "metadata": {},
   "source": []
  },
  {
   "cell_type": "code",
   "execution_count": null,
   "id": "dde71ea1-6593-4841-9871-85c8fb8ba060",
   "metadata": {},
   "outputs": [],
   "source": []
  }
 ],
 "metadata": {
  "kernelspec": {
   "display_name": "Julia 1.7.2",
   "language": "julia",
   "name": "julia-1.7"
  },
  "language_info": {
   "file_extension": ".jl",
   "mimetype": "application/julia",
   "name": "julia",
   "version": "1.7.2"
  }
 },
 "nbformat": 4,
 "nbformat_minor": 5
}
